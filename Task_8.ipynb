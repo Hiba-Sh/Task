{
 "cells": [
  {
   "cell_type": "code",
   "execution_count": 44,
   "id": "5f0bac33",
   "metadata": {},
   "outputs": [],
   "source": [
    "import numpy as np #math\n",
    "import pandas as pd\n",
    "import matplotlib.pyplot as plt"
   ]
  },
  {
   "cell_type": "code",
   "execution_count": 45,
   "id": "ec1d96ff",
   "metadata": {},
   "outputs": [],
   "source": [
    "df = pd.read_csv(r'C:\\Users\\Hiba Shakir\\Desktop\\Machine Learning\\Data\\smoke_detection_iot.csv')"
   ]
  },
  {
   "cell_type": "code",
   "execution_count": 46,
   "id": "57f375c9",
   "metadata": {
    "scrolled": true
   },
   "outputs": [
    {
     "name": "stdout",
     "output_type": "stream",
     "text": [
      "___________________________________________________________________________________________\n",
      "yes_Fire: \n",
      "         num         UTC  Temperature  Humidity  TVOC  eCO2  Raw_H2  \\\n",
      "3178    3178  1654736509        9.381     56.86    11   400   13347   \n",
      "3179    3179  1654736510        9.368     58.60     0   400   13385   \n",
      "3180    3180  1654736511        9.356     60.38     0   400   13388   \n",
      "3181    3181  1654736512        9.343     62.22     0   400   13443   \n",
      "3182    3182  1654736513        9.331     63.11     0   400   13457   \n",
      "...      ...         ...          ...       ...   ...   ...     ...   \n",
      "51141  51141  1654904158       31.120     18.67     0   873   13077   \n",
      "51145  51145  1654712190       27.320     43.84    29   454   12858   \n",
      "51146  51146  1654712191       27.270     43.98    28   456   12860   \n",
      "56889  56889  1655124311       20.191     43.84    29   454   12858   \n",
      "56890  56890  1655124312       20.254     43.98    28   456   12860   \n",
      "\n",
      "       Raw_Ethanol  Pressure   PM1   PM2    NC0    NC1    NC2   CNT  \\\n",
      "3178         20160   939.575  1.78  1.85  12.25  1.911  0.043  3178   \n",
      "3179         20202   939.574  1.80  1.87  12.41  1.935  0.044  3179   \n",
      "3180         20248   938.858  1.94  2.01  13.32  2.077  0.047  3180   \n",
      "3181         20315   939.044  2.00  2.08  13.75  2.145  0.048  3181   \n",
      "3182         20348   939.193  2.07  2.15  14.24  2.220  0.050  3182   \n",
      "...            ...       ...   ...   ...    ...    ...    ...   ...   \n",
      "51141        20927   930.929  1.00  1.04   6.89  1.075  0.024  1153   \n",
      "51145        20752   937.610  2.24  2.32  15.39  2.400  0.054     3   \n",
      "51146        20751   937.601  2.26  2.35  15.58  2.429  0.055     4   \n",
      "56889        20752   937.610  2.24  2.32  15.39  2.400  0.054     3   \n",
      "56890        20751   937.601  2.26  2.35  15.58  2.429  0.055     4   \n",
      "\n",
      "       Fire_Alarm  \n",
      "3178            1  \n",
      "3179            1  \n",
      "3180            1  \n",
      "3181            1  \n",
      "3182            1  \n",
      "...           ...  \n",
      "51141           1  \n",
      "51145           1  \n",
      "51146           1  \n",
      "56889           1  \n",
      "56890           1  \n",
      "\n",
      "[44757 rows x 16 columns]\n",
      "___________________________________________________________________________________________\n",
      "No_Fire: \n",
      "         num         UTC  Temperature  Humidity  TVOC  eCO2  Raw_H2  \\\n",
      "0          0  1654733331       20.000     57.36     0   400   12306   \n",
      "1          1  1654733332       20.015     56.67     0   400   12345   \n",
      "2          2  1654733333       20.029     55.96     0   400   12374   \n",
      "3          3  1654733334       20.044     55.28     0   400   12390   \n",
      "4          4  1654733335       20.059     54.69     0   400   12403   \n",
      "...      ...         ...          ...       ...   ...   ...     ...   \n",
      "62625  62625  1655130047       18.438     15.79   625   400   13723   \n",
      "62626  62626  1655130048       18.653     15.87   612   400   13731   \n",
      "62627  62627  1655130049       18.867     15.84   627   400   13725   \n",
      "62628  62628  1655130050       19.083     16.04   638   400   13712   \n",
      "62629  62629  1655130051       19.299     16.52   643   400   13696   \n",
      "\n",
      "       Raw_Ethanol  Pressure   PM1   PM2   NC0    NC1    NC2   CNT  Fire_Alarm  \n",
      "0            18520   939.735  0.00  0.00  0.00  0.000  0.000     0           0  \n",
      "1            18651   939.744  0.00  0.00  0.00  0.000  0.000     1           0  \n",
      "2            18764   939.738  0.00  0.00  0.00  0.000  0.000     2           0  \n",
      "3            18849   939.736  0.00  0.00  0.00  0.000  0.000     3           0  \n",
      "4            18921   939.744  0.00  0.00  0.00  0.000  0.000     4           0  \n",
      "...            ...       ...   ...   ...   ...    ...    ...   ...         ...  \n",
      "62625        20569   936.670  0.63  0.65  4.32  0.673  0.015  5739           0  \n",
      "62626        20588   936.678  0.61  0.63  4.18  0.652  0.015  5740           0  \n",
      "62627        20582   936.687  0.57  0.60  3.95  0.617  0.014  5741           0  \n",
      "62628        20566   936.680  0.57  0.59  3.92  0.611  0.014  5742           0  \n",
      "62629        20543   936.676  0.57  0.59  3.90  0.607  0.014  5743           0  \n",
      "\n",
      "[17873 rows x 16 columns]\n",
      "___________________________________________________________________________________________\n"
     ]
    }
   ],
   "source": [
    "yes_Fire = df[df['Fire_Alarm'].isin([1])]\n",
    "No_Fire = df[df['Fire_Alarm'].isin([0])]\n",
    "print('___________________________________________________________________________________________')\n",
    "print('yes_Fire: ')\n",
    "print(yes_Fire)\n",
    "print('___________________________________________________________________________________________')\n",
    "print('No_Fire: ')\n",
    "print(No_Fire)\n",
    "print('___________________________________________________________________________________________')\n"
   ]
  },
  {
   "cell_type": "code",
   "execution_count": 52,
   "id": "c676562d",
   "metadata": {},
   "outputs": [],
   "source": [
    "import plotly.graph_objects as go\n"
   ]
  },
  {
   "cell_type": "code",
   "execution_count": 63,
   "id": "3942bff7",
   "metadata": {},
   "outputs": [
    {
     "name": "stdout",
     "output_type": "stream",
     "text": [
      "Fire Alarm Gragh: \n"
     ]
    },
    {
     "data": {
      "image/png": "[encoded data removed]",
      "text/plain": [
       "<Figure size 640x480 with 1 Axes>"
      ]
     },
     "metadata": {},
     "output_type": "display_data"
    }
   ],
   "source": [
    "fire_alarm =['yes_Fire','No_Fire']\n",
    "#data = [44757,17873]\n",
    "\n",
    "data = [len(yes_Fire.index),len(No_Fire.index)]\n",
    "#fig = plt.figure(figsize =(10,5))\n",
    "#plt.pie(data, labels = fire_alarm)\n",
    "\n",
    "\n",
    "fig, ax = plt.subplots()\n",
    "\n",
    "ax.pie(data, labels=fire_alarm, autopct='%1.1f%%')\n",
    "\n",
    "\n",
    "print('Fire Alarm Gragh: ')\n",
    "plt.legend()\n",
    "#show plot\n",
    "plt.show()"
   ]
  },
  {
   "cell_type": "code",
   "execution_count": null,
   "id": "9e128da7",
   "metadata": {},
   "outputs": [],
   "source": []
  }
 ],
 "metadata": {
  "kernelspec": {
   "display_name": "Python 3 (ipykernel)",
   "language": "python",
   "name": "python3"
  },
  "language_info": {
   "codemirror_mode": {
    "name": "ipython",
    "version": 3
   },
   "file_extension": ".py",
   "mimetype": "text/x-python",
   "name": "python",
   "nbconvert_exporter": "python",
   "pygments_lexer": "ipython3",
   "version": "3.9.13"
  }
 },
 "nbformat": 4,
 "nbformat_minor": 5
}
